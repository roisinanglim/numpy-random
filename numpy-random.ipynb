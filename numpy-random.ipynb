{
 "cells": [
  {
   "cell_type": "markdown",
   "metadata": {},
   "source": [
    "## Assignment Numpy Random Package\n",
    "--------------------------------------------------------\n",
    "### Contents\n",
    "\n",
    "[1. Purpose of numpy random package](#Purpose)\n",
    "\n",
    "[2. Use simple random data](#random) \n",
    "\n",
    "[2.1 Random radom function](#randomr) \n",
    "\n",
    "[3. Use permutations function](#permutations) \n",
    "\n",
    "[4. Five Distributions explained](#Distribution)\n",
    "  \n",
    "  [4.1 Normal Distribution](#normal) \n",
    "  \n",
    "  [4.2 Binomial Distribution](#Binomial) \n",
    "  \n",
    "  [4.3 Uniform Distribution](#Uniform) \n",
    "  \n",
    "  [4.4 Poisson Distribution](#Poisson) \n",
    "  \n",
    "  [4.5 Negative Binomial Distribution](#Negative)\n",
    " \n",
    " [5. Use of seeds in generating pseudorandom numbers](#Seeds)"
   ]
  },
  {
   "cell_type": "markdown",
   "metadata": {},
   "source": [
    "### 1. Purpose of numpy random package <a name=\"Purpose\"></a> \n",
    "\n",
    "This package carrys out random sampling. This process returns a sample or value entirely by chance from a sepcific population. \n",
    "\n",
    "Numpy random package provides various routines. It uses a particular algorithm, called the Mersenne Twister, to generate pseudorandom numbers."
   ]
  },
  {
   "cell_type": "markdown",
   "metadata": {},
   "source": [
    "### 2.  Use Simple random data <a name=\"random\"></a> \n",
    "\n",
    "The simple random data in numpy contains functions to generate random data.There are several functions including random.integers which returns random integers within a specified range and random.rand which creates an array of the given shape and populates it with random samples from a uniform distribution (0,1).\n",
    "\n",
    "The random functions can generate data without or without seeding (see section 5).\n",
    "\n",
    "### 2.1 Random.Random function <a name=\"randomr\"></a>\n",
    "random.random function returns a float in the interval [0.0,1.0]. When the function is not seeded it use the current system time from your computers operating system."
   ]
  },
  {
   "cell_type": "code",
   "execution_count": 10,
   "metadata": {},
   "outputs": [
    {
     "name": "stdout",
     "output_type": "stream",
     "text": [
      "0.9451460408507507\n"
     ]
    }
   ],
   "source": [
    "import numpy as np \n",
    "import matplotlib.pyplot as plt \n",
    "import seaborn as sns\n",
    "x = np.random.random()\n",
    "print(x)"
   ]
  },
  {
   "cell_type": "markdown",
   "metadata": {},
   "source": [
    "### 3. Use permutations function <a name=\"permutations\"></a> \n",
    "\n",
    "The permutations function is the arrangements that can be made from a set of objects(n) given a type spcified arrangement (r).[4](#4) \n",
    "\n",
    "Each way these letters can be arranged is called a permutation.\n",
    "\n",
    "r= 2 - This represents the number of data in each arrangement e.g two letters \n",
    "\n",
    "n = (A,B,C) - This represents the full dataset\n",
    "\n",
    "    Permutations = [AB , BA, AC, CA, BC ,CB]\n",
    "\n"
   ]
  },
  {
   "cell_type": "markdown",
   "metadata": {},
   "source": [
    "## 4.1 Normal Distribution <a name=\"normal\"></a>\n",
    "\n",
    "Normal distrubution when plotted on a graph forms a bell shaped curve. \n",
    "The plot will be centered around the mean (see plot below where the mean is 7 which is the centre of the graph). \n",
    "\n",
    "### Function : np.random.normal(a,b,c)\n",
    "\n",
    "a = Mean b = standard deviation c = number of random datapoints created \n",
    "\n",
    "### Ouput \n",
    "\n",
    "The data for a normal distribution plot centered around a mean of 7, showing 2 standard deviations of the data, and creates 1000 random data points that are of normal distribution. 68% of the data values generated will be ±1 standard deviations of the mean. 95% of the data values generated will be within ±2 standard deviations of the mean [1](#1) . "
   ]
  },
  {
   "cell_type": "code",
   "execution_count": 22,
   "metadata": {},
   "outputs": [
    {
     "name": "stderr",
     "output_type": "stream",
     "text": [
      "C:\\Users\\Harvey Norman\\Ana\\Anaconda1\\lib\\site-packages\\scipy\\stats\\stats.py:1713: FutureWarning: Using a non-tuple sequence for multidimensional indexing is deprecated; use `arr[tuple(seq)]` instead of `arr[seq]`. In the future this will be interpreted as an array index, `arr[np.array(seq)]`, which will result either in an error or a different result.\n",
      "  return np.add.reduce(sorted[indexer] * weights, axis=axis) / sumval\n"
     ]
    },
    {
     "data": {
      "text/plain": [
       "<matplotlib.axes._subplots.AxesSubplot at 0x22c24c6e198>"
      ]
     },
     "execution_count": 22,
     "metadata": {},
     "output_type": "execute_result"
    },
    {
     "data": {
      "image/png": "[encoded data removed]",
      "text/plain": [
       "<Figure size 432x288 with 1 Axes>"
      ]
     },
     "metadata": {
      "needs_background": "light"
     },
     "output_type": "display_data"
    }
   ],
   "source": [
    "import numpy as np\n",
    "import seaborn as sns\n",
    "x = np.random.normal(7,2,100000)\n",
    "sns.distplot(tuple(x))\n"
   ]
  },
  {
   "cell_type": "markdown",
   "metadata": {},
   "source": [
    "## 4.2  Binomial Distribution <a name=\"Binomial\"></a>\n",
    "The binomial distribution is the frequency distribution of the number of successes\n",
    "in a given number of trials with a specified probability of success in\n",
    "each trial.\n",
    "\n",
    "### Function : np.random.binomial( n,p,s) \n",
    "n = number of trials p = probability of each trial s = number of times a trial is carried out\n",
    "\n",
    "\n",
    "### Output\n",
    "The height of each bar represents the probability of that event occuring. \n"
   ]
  },
  {
   "cell_type": "code",
   "execution_count": 29,
   "metadata": {},
   "outputs": [
    {
     "name": "stderr",
     "output_type": "stream",
     "text": [
      "C:\\Users\\Harvey Norman\\Ana\\Anaconda1\\lib\\site-packages\\scipy\\stats\\stats.py:1713: FutureWarning: Using a non-tuple sequence for multidimensional indexing is deprecated; use `arr[tuple(seq)]` instead of `arr[seq]`. In the future this will be interpreted as an array index, `arr[np.array(seq)]`, which will result either in an error or a different result.\n",
      "  return np.add.reduce(sorted[indexer] * weights, axis=axis) / sumval\n"
     ]
    },
    {
     "data": {
      "image/png": "[encoded data removed]",
      "text/plain": [
       "<Figure size 432x288 with 1 Axes>"
      ]
     },
     "metadata": {
      "needs_background": "light"
     },
     "output_type": "display_data"
    }
   ],
   "source": [
    "import numpy as np \n",
    "import matplotlib.pyplot as plt \n",
    "import seaborn as sns\n",
    "x = np.random.binomial(20,.1,100000)\n",
    "sns.distplot(x)\n",
    "plt.show()"
   ]
  },
  {
   "cell_type": "markdown",
   "metadata": {},
   "source": [
    "## 4.3 Uniform Distribution \n",
    "\n",
    "Under a uniform distribution, the set of variables all have the exact same possibility of happening.  \n",
    "\n",
    "### Function : np.random.uniform(a,b,c)\n",
    "\n",
    "a = lowest value b = highest value c = sample size\n",
    "\n",
    "### Output \n",
    "\n",
    "The graph below which displays a rectangular shape shows that each value within the dataset has the same probability of being generated.\n"
   ]
  },
  {
   "cell_type": "code",
   "execution_count": 13,
   "metadata": {},
   "outputs": [
    {
     "name": "stderr",
     "output_type": "stream",
     "text": [
      "C:\\Users\\Harvey Norman\\Ana\\Anaconda1\\lib\\site-packages\\scipy\\stats\\stats.py:1713: FutureWarning: Using a non-tuple sequence for multidimensional indexing is deprecated; use `arr[tuple(seq)]` instead of `arr[seq]`. In the future this will be interpreted as an array index, `arr[np.array(seq)]`, which will result either in an error or a different result.\n",
      "  return np.add.reduce(sorted[indexer] * weights, axis=axis) / sumval\n"
     ]
    },
    {
     "data": {
      "image/png": "[encoded data removed]",
      "text/plain": [
       "<Figure size 432x288 with 1 Axes>"
      ]
     },
     "metadata": {
      "needs_background": "light"
     },
     "output_type": "display_data"
    }
   ],
   "source": [
    "t = np.random.uniform(1,3,100000)  \n",
    "sns.distplot(t) \n",
    "plt.show() "
   ]
  },
  {
   "cell_type": "markdown",
   "metadata": {},
   "source": [
    "## 4.4 Poission Distrbution \n",
    "\n",
    "This distribution tells us the distribution of events per unit of time or space when we sample a number of  units.\n",
    "\n",
    "### Function : np.random.poisson(mu, size)  \n",
    "\n",
    "mu = rate at which the events happen size : number of samples\n",
    "\n",
    "### Output \n",
    "The x-axis displays the number of events and the y-axis displays the frequency/time interval \n",
    "\n",
    "### Use \n",
    "Poisson distributions can be used to make forecasts about customers or sales on certain days or seasons of the year.\n",
    "\n"
   ]
  },
  {
   "cell_type": "code",
   "execution_count": 14,
   "metadata": {},
   "outputs": [
    {
     "name": "stderr",
     "output_type": "stream",
     "text": [
      "C:\\Users\\Harvey Norman\\Ana\\Anaconda1\\lib\\site-packages\\scipy\\stats\\stats.py:1713: FutureWarning: Using a non-tuple sequence for multidimensional indexing is deprecated; use `arr[tuple(seq)]` instead of `arr[seq]`. In the future this will be interpreted as an array index, `arr[np.array(seq)]`, which will result either in an error or a different result.\n",
      "  return np.add.reduce(sorted[indexer] * weights, axis=axis) / sumval\n"
     ]
    },
    {
     "data": {
      "image/png": "[encoded data removed]",
      "text/plain": [
       "<Figure size 432x288 with 1 Axes>"
      ]
     },
     "metadata": {
      "needs_background": "light"
     },
     "output_type": "display_data"
    }
   ],
   "source": [
    "import numpy as np\n",
    "import matplotlib.pyplot as plt\n",
    "import seaborn as sns\n",
    "\n",
    "t = np.random.poisson(5, 10000)\n",
    "sns.distplot(t)\n",
    "plt.show()"
   ]
  },
  {
   "cell_type": "markdown",
   "metadata": {},
   "source": [
    "## 4.5  Negative binomial \n",
    "\n",
    "This distribution represents the number of repeated trials to produce a number of successes in a negative binomial experiment.\n",
    "\n",
    "### Function np.random.negative_binomial( n, p ,s) \n",
    "n = number of successes p = probability of success s = number of events  \n",
    "\n",
    "### Output  \n",
    "\n",
    "From the x-axis after 30 phone calls the probability of success increases to 22%.\n",
    "\n",
    "### Example of its use\n",
    "\n",
    "A customer service agent is required to get three (n) telephone customers to complete surveys. The probability of her achieving this on one call is 10% (p). This distributions displays the number of calls she will likely have to make before she achieves success.  \n"
   ]
  },
  {
   "cell_type": "code",
   "execution_count": 38,
   "metadata": {},
   "outputs": [
    {
     "name": "stderr",
     "output_type": "stream",
     "text": [
      "C:\\Users\\Harvey Norman\\Ana\\Anaconda1\\lib\\site-packages\\scipy\\stats\\stats.py:1713: FutureWarning: Using a non-tuple sequence for multidimensional indexing is deprecated; use `arr[tuple(seq)]` instead of `arr[seq]`. In the future this will be interpreted as an array index, `arr[np.array(seq)]`, which will result either in an error or a different result.\n",
      "  return np.add.reduce(sorted[indexer] * weights, axis=axis) / sumval\n"
     ]
    },
    {
     "data": {
      "image/png": "[encoded data removed]",
      "text/plain": [
       "<Figure size 432x288 with 1 Axes>"
      ]
     },
     "metadata": {
      "needs_background": "light"
     },
     "output_type": "display_data"
    }
   ],
   "source": [
    "import matplotlib.pyplot as plt\n",
    "u = np.random.negative_binomial (3,0.1,1000)\n",
    "sns.distplot(u) \n",
    "plt.show()"
   ]
  },
  {
   "cell_type": "markdown",
   "metadata": {},
   "source": [
    "## 5 The use of seeds in generating pseudorandom numbers\n",
    "\n",
    "A pseudorandom number generator is an algorithm for generating a sequence of numbers whose properties approximate the properties of sequences of random numbers.[2](#2) Python uses the Mersenne Twister as the core generator. [3](#3) \n",
    "\n",
    "Once you put in the seed value you get the same pattern of random numbers (see code 1 & 3 below). Each seed value corresponds to a sequence of generated values from a given random number generator.\n",
    "\n",
    "As the seed is not set, in code 2 below the number will be generated using the current system time on your operating system."
   ]
  },
  {
   "cell_type": "code",
   "execution_count": 16,
   "metadata": {},
   "outputs": [
    {
     "name": "stdout",
     "output_type": "stream",
     "text": [
      "979\n"
     ]
    }
   ],
   "source": [
    "# Set the seed\n",
    "import numpy as np\n",
    "import random as rd\n",
    "rd.seed(2)\n",
    "y = rd.randint(1, 1000)\n",
    "print(y)"
   ]
  },
  {
   "cell_type": "code",
   "execution_count": 17,
   "metadata": {},
   "outputs": [
    {
     "name": "stdout",
     "output_type": "stream",
     "text": [
      "884\n"
     ]
    }
   ],
   "source": [
    "#Seed not set \n",
    "import numpy as np\n",
    "import random as rd\n",
    "y = rd.randint(1, 1000)\n",
    "print(y)"
   ]
  },
  {
   "cell_type": "code",
   "execution_count": 18,
   "metadata": {},
   "outputs": [
    {
     "name": "stdout",
     "output_type": "stream",
     "text": [
      "979\n"
     ]
    }
   ],
   "source": [
    "#set the seed to see same result\n",
    "import numpy as np\n",
    "import random as rd\n",
    "rd.seed(2)\n",
    "y = rd.randint(1, 1000)\n",
    "print(y)"
   ]
  },
  {
   "cell_type": "markdown",
   "metadata": {},
   "source": [
    "### References \n",
    "\n",
    "1. <a name=\"#1\"></a> Bruce, P. and Bruce, A., 2017. Practical Statistics for Data Scientists: 50 Essential Concepts. \" O'Reilly Media, Inc.\" \n",
    "2. <a name=\"#2\"></a> https://en.wikipedia.org/wiki/Pseudorandom_number_generator\n",
    "\n",
    "3. <a name=\"#3\"></a> https://docs.python.org/2/library/random.html \n",
    "4. <a name=\"#4\"></a> https://stattrek.com/statistics/dictionary.aspx?definition=permutation \n"
   ]
  }
 ],
 "metadata": {
  "kernelspec": {
   "display_name": "Python 3",
   "language": "python",
   "name": "python3"
  },
  "language_info": {
   "codemirror_mode": {
    "name": "ipython",
    "version": 3
   },
   "file_extension": ".py",
   "mimetype": "text/x-python",
   "name": "python",
   "nbconvert_exporter": "python",
   "pygments_lexer": "ipython3",
   "version": "3.7.0"
  }
 },
 "nbformat": 4,
 "nbformat_minor": 2
}
