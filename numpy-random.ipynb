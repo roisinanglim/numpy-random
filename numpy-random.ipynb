{
 "cells": [
  {
   "cell_type": "markdown",
   "metadata": {},
   "source": [
    "# \n",
    "   --------------------------------------------------\n",
    "\n",
    "## 1. Numpy\n",
    "Numpy is a math libray for python and its name stands for numerical python. \n",
    "\n",
    "Numpy allows you to perform -  \n",
    "* Mathematical and logical operations on arrays.\n",
    "* Fourier transforms and routines for shape manipulation.\n",
    "* Operations related to linear algebra. \n",
    "* Numpy has in-built functions for linear algebra and random number generation. https://www.tutorialspoint.com/numpy/numpy_introduction.html    \n",
    "\n",
    "\n",
    " \n",
    "\n",
    "## 2. The numpy.random package \n",
    "This package carrys out random sampling. This process returns a sample or value entirely by chance from a sepcific population. \n",
    "Within numpy there are ten functions to carry out this process. \n",
    "\n",
    "\n"
   ]
  },
  {
   "cell_type": "markdown",
   "metadata": {},
   "source": [
    "## a) numpy.random.rand \n",
    "----------------------- \n",
    "This function returns an array from a uniform distribution. (https://docs.scipy.org/doc/numpy/reference/generated/numpy.random.rand.html#numpy.random.rand) \n",
    "\n",
    "As you can see from the histogram below the numbers between 0-1000 are equally likely to be generated at random."
   ]
  },
  {
   "cell_type": "code",
   "execution_count": 1,
   "metadata": {},
   "outputs": [],
   "source": [
    "import numpy as np"
   ]
  },
  {
   "cell_type": "code",
   "execution_count": 2,
   "metadata": {},
   "outputs": [],
   "source": [
    "x = np.random.rand(1000) "
   ]
  },
  {
   "cell_type": "code",
   "execution_count": 4,
   "metadata": {},
   "outputs": [
    {
     "data": {
      "image/png": "[encoded data removed]",
      "text/plain": [
       "<Figure size 432x288 with 1 Axes>"
      ]
     },
     "metadata": {
      "needs_background": "light"
     },
     "output_type": "display_data"
    }
   ],
   "source": [
    "import matplotlib.pyplot as plt \n",
    "\n",
    "plt.hist(x) \n",
    "plt.show()"
   ]
  },
  {
   "cell_type": "markdown",
   "metadata": {},
   "source": [
    "## b) numpy.random.randn \n",
    "----------------------------------------- \n"
   ]
  },
  {
   "cell_type": "code",
   "execution_count": 100,
   "metadata": {},
   "outputs": [
    {
     "data": {
      "image/png": "[encoded data removed]",
      "text/plain": [
       "<Figure size 432x288 with 1 Axes>"
      ]
     },
     "metadata": {
      "needs_background": "light"
     },
     "output_type": "display_data"
    }
   ],
   "source": [
    "y = np.random.randn(1000) \n",
    "import matplotlib.pyplot as plt \n",
    "plt.hist(y) \n",
    "plt.show()"
   ]
  },
  {
   "cell_type": "markdown",
   "metadata": {},
   "source": [
    "## Normal Distribution \n",
    "\n",
    "Normal distrubution when plotted on a graph forms a bell shaped curve. \n",
    "The plot will be centered around the mean (see plot below where the mean is 7 which is the centre of the graph). \n",
    "\n",
    "### Function : np.random.normal(a,b,c)\n",
    "\n",
    "a = Mean b = standard deviation c = number of random datapoints created \n",
    "\n",
    "### Ouput \n",
    "\n",
    "The data for a normal distribution plot centered around a mean of 7, showing 2 standard deviations of the data, and creates 100 random data points that are of normal distribution. Remember this is the normal() function, which means that the data will be normalized. 68% of the data values will generated will be (or very close to) ±1 standard deviations of the mean. 95% of the data values generated will be within ±2 standard deviations of the mean. 99.7% of the data values generated will be within ±3 standard deviations of the mean. \n",
    "\n",
    "#### Reference : http://www.learningaboutelectronics.com/Articles/How-to-create-a-normal-distribution-plot-in-Python-with-numpy-and-matplotlib.php\n"
   ]
  },
  {
   "cell_type": "code",
   "execution_count": 17,
   "metadata": {},
   "outputs": [
    {
     "data": {
      "image/png": "[encoded data removed]",
      "text/plain": [
       "<Figure size 432x288 with 1 Axes>"
      ]
     },
     "metadata": {
      "needs_background": "light"
     },
     "output_type": "display_data"
    }
   ],
   "source": [
    "import matplotlib.pyplot as mp\n",
    "x = np.random.normal(7,2,100)\n",
    "plt.hist(x, color='r')\n",
    "plt.show()\n"
   ]
  },
  {
   "cell_type": "markdown",
   "metadata": {},
   "source": [
    "## Binomial Distribution \n",
    "\n",
    "\n",
    "\n",
    "### Function : np.random.binomial( n,p,s) \n",
    "n = number of trials p = probability of each trial s = number of times trial is carredi out\n",
    "\n",
    "\n",
    "\n",
    "\n",
    "### Output\n",
    "The height of each bar represents the probability of that event occuring. \n"
   ]
  },
  {
   "cell_type": "code",
   "execution_count": 18,
   "metadata": {},
   "outputs": [
    {
     "data": {
      "image/png": "[encoded data removed]",
      "text/plain": [
       "<Figure size 432x288 with 1 Axes>"
      ]
     },
     "metadata": {
      "needs_background": "light"
     },
     "output_type": "display_data"
    }
   ],
   "source": [
    "import numpy as np \n",
    "import matplotlib.pyplot as plt \n",
    "x = np.random.binomial(20,.6,100)\n",
    "plt.hist(x,color='r')\n",
    "plt.show()"
   ]
  },
  {
   "cell_type": "markdown",
   "metadata": {},
   "source": [
    "## Uniform Distribution \n",
    "\n",
    "\n"
   ]
  },
  {
   "cell_type": "code",
   "execution_count": 21,
   "metadata": {},
   "outputs": [
    {
     "data": {
      "image/png": "[encoded data removed]",
      "text/plain": [
       "<Figure size 432x288 with 1 Axes>"
      ]
     },
     "metadata": {
      "needs_background": "light"
     },
     "output_type": "display_data"
    }
   ],
   "source": [
    "t = np.random.uniform(1,3,9)  \n",
    "plt.hist(t)\n",
    "plt.show()"
   ]
  }
 ],
 "metadata": {
  "kernelspec": {
   "display_name": "Python 3",
   "language": "python",
   "name": "python3"
  },
  "language_info": {
   "codemirror_mode": {
    "name": "ipython",
    "version": 3
   },
   "file_extension": ".py",
   "mimetype": "text/x-python",
   "name": "python",
   "nbconvert_exporter": "python",
   "pygments_lexer": "ipython3",
   "version": "3.7.0"
  }
 },
 "nbformat": 4,
 "nbformat_minor": 2
}
